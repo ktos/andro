{
 "cells": [
  {
   "cell_type": "code",
   "execution_count": 19,
   "metadata": {},
   "outputs": [],
   "source": [
    "import unidecode\n",
    "import os, sys\n",
    "module_path = os.path.abspath(os.path.join('.'))\n",
    "if module_path not in sys.path:\n",
    "    sys.path.append(module_path)\n",
    "\n",
    "import pyandro.dictionary as dictionary\n",
    "\n",
    "# read and parse dictionary file\n",
    "words = dictionary.read_dictionary('dictionary.csv')\n",
    "\n",
    "# sort words without accents\n",
    "sorted_words = sorted(words, key=lambda x: x['noaccent_word'].lower())\n",
    "\n",
    "basic = (x['speech'] for x in filter(lambda x: x['type'] not in ['name', 'phraseology', 'proper'], words))\n",
    "pl = (x['pl_speech'] for x in filter(lambda x: 'pl' in x, words))\n",
    "pst = (x['pst_speech'] for x in filter(lambda x: 'pst' in x, words))\n",
    "fem = (x['fem_speech'] for x in filter(lambda x: 'fem' in x and x['fem'] != 'FEM', words))\n",
    "supl = (x['supl_speech'] for x in filter(lambda x: 'supl' in x, words))\n",
    "comp = (x['comp_speech'] for x in filter(lambda x: 'comp' in x, words))\n",
    "\n",
    "final = (y + '\\n' for y in sorted(list(basic) + list(pl) + list(pst) + list(fem) +\n",
    "                list(supl) + list(comp), key=lambda x: unidecode.unidecode(x).replace('[?]', '')))"
   ]
  },
  {
   "cell_type": "code",
   "execution_count": 20,
   "metadata": {},
   "outputs": [
    {
     "data": {
      "text/plain": [
       "(array([ 162., 1293., 1456.,  429.,   85.,   18.,    3.]),\n",
       " array([1.        , 1.85714286, 2.71428571, 3.57142857, 4.42857143,\n",
       "        5.28571429, 6.14285714, 7.        ]),\n",
       " <BarContainer object of 7 artists>)"
      ]
     },
     "execution_count": 20,
     "metadata": {},
     "output_type": "execute_result"
    },
    {
     "data": {
      "image/png": "[encoded data removed]",
      "text/plain": [
       "<Figure size 432x288 with 1 Axes>"
      ]
     },
     "metadata": {
      "needs_background": "light"
     },
     "output_type": "display_data"
    }
   ],
   "source": [
    "import numpy as np\n",
    "import matplotlib.pyplot as plt\n",
    "\n",
    "lengths = list(map(lambda x: len(x.split('.')), final))\n",
    "\n",
    "plt.hist(lengths, bins=max(lengths))"
   ]
  }
 ],
 "metadata": {
  "kernelspec": {
   "display_name": "Python 3.10.5 64-bit",
   "language": "python",
   "name": "python3"
  },
  "language_info": {
   "codemirror_mode": {
    "name": "ipython",
    "version": 3
   },
   "file_extension": ".py",
   "mimetype": "text/x-python",
   "name": "python",
   "nbconvert_exporter": "python",
   "pygments_lexer": "ipython3",
   "version": "3.10.5"
  },
  "orig_nbformat": 4,
  "vscode": {
   "interpreter": {
    "hash": "acd700ede3dc29a814974ced601495312bdfc04090d8fde58a2e5fb6ec34d497"
   }
  }
 },
 "nbformat": 4,
 "nbformat_minor": 2
}
